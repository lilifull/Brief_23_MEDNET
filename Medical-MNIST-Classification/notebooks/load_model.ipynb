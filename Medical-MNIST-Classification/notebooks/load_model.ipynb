{
 "cells": [
  {
   "cell_type": "code",
   "execution_count": 3,
   "id": "d4e199aa",
   "metadata": {},
   "outputs": [
    {
     "data": {
      "text/plain": [
       "RecursiveScriptModule(\n",
       "  original_name=MedNet\n",
       "  (cnv1): RecursiveScriptModule(original_name=Conv2d)\n",
       "  (conv1_batchnorm): RecursiveScriptModule(original_name=BatchNorm2d)\n",
       "  (cnv2): RecursiveScriptModule(original_name=Conv2d)\n",
       "  (conv2_batchnorm): RecursiveScriptModule(original_name=BatchNorm2d)\n",
       "  (pool): RecursiveScriptModule(original_name=MaxPool2d)\n",
       "  (do1): RecursiveScriptModule(original_name=Dropout)\n",
       "  (ful1): RecursiveScriptModule(original_name=Linear)\n",
       "  (do2): RecursiveScriptModule(original_name=Dropout)\n",
       "  (ful2): RecursiveScriptModule(original_name=Linear)\n",
       "  (do3): RecursiveScriptModule(original_name=Dropout)\n",
       "  (ful3): RecursiveScriptModule(original_name=Linear)\n",
       ")"
      ]
     },
     "execution_count": 3,
     "metadata": {},
     "output_type": "execute_result"
    }
   ],
   "source": [
    "import torch\n",
    "\n",
    "# import model\n",
    "model = torch.jit.load(\"saved_jit_best_model.pt\", map_location=torch.device('cpu'))\n",
    "model.eval()\n",
    "\n"
   ]
  },
  {
   "cell_type": "code",
   "execution_count": null,
   "id": "e4875ec5",
   "metadata": {},
   "outputs": [],
   "source": []
  }
 ],
 "metadata": {
  "kernelspec": {
   "display_name": "base",
   "language": "python",
   "name": "python3"
  },
  "language_info": {
   "codemirror_mode": {
    "name": "ipython",
    "version": 3
   },
   "file_extension": ".py",
   "mimetype": "text/x-python",
   "name": "python",
   "nbconvert_exporter": "python",
   "pygments_lexer": "ipython3",
   "version": "3.9.13"
  },
  "vscode": {
   "interpreter": {
    "hash": "40d3a090f54c6569ab1632332b64b2c03c39dcf918b08424e98f38b5ae0af88f"
   }
  }
 },
 "nbformat": 4,
 "nbformat_minor": 5
}
